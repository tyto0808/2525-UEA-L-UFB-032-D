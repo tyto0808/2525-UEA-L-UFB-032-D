{
  "cells": [
    {
      "cell_type": "markdown",
      "metadata": {
        "id": "Lxs6uN4LMeit"
      },
      "source": [
        "## Ejercicio\n",
        "\n",
        "Escribir un programa que almacene las asignaturas de un curso (por ejemplo Matemáticas, Física, Química, Historia y Lengua) en una lista y la muestre por pantalla."
      ]
    },
    {
      "cell_type": "markdown",
      "metadata": {
        "id": "AkVq94ZXMeiy"
      },
      "source": [
        "## Solución"
      ]
    },
    {
      "cell_type": "code",
      "metadata": {
        "colab": {
          "base_uri": "https://localhost:8080/"
        },
        "id": "2961264d",
        "outputId": "52bc1727-16a2-459c-8927-cb23696fe084"
      },
      "source": [
        "asignaturas = [\n",
        "    \"Matemáticas\",\n",
        "    \"Física\",\n",
        "    \"Química\",\n",
        "    \"Historia\",\n",
        "    \"Lengua\"\n",
        "]\n",
        "\n",
        "print(\"Asignaturas del curso:\")\n",
        "for asignatura in asignaturas:\n",
        "    print(\"- \" + asignatura)"
      ],
      "execution_count": 4,
      "outputs": [
        {
          "output_type": "stream",
          "name": "stdout",
          "text": [
            "Asignaturas del curso:\n",
            "- Matemáticas\n",
            "- Física\n",
            "- Química\n",
            "- Historia\n",
            "- Lengua\n"
          ]
        }
      ]
    },
    {
      "cell_type": "markdown",
      "source": [
        "Ejercicio 2\n",
        "# Sección nueva\n",
        "Escribir un programa que almacene las asignaturas de un curso (por ejemplo Matemáticas, Física, Química, Historia y Lengua) en una lista y la muestre por pantalla el mensaje Yo estudio <asignatura>, donde <asignatura> es cada una de las asignaturas de la lista.\n",
        "\n",
        "\n"
      ],
      "metadata": {
        "id": "HDeBYYN_PpKo"
      }
    },
    {
      "cell_type": "code",
      "metadata": {
        "colab": {
          "base_uri": "https://localhost:8080/"
        },
        "id": "9fc452d8",
        "outputId": "969ca05c-0dd8-454c-eb16-c74dca199a9c"
      },
      "source": [
        "asignaturas = []\n",
        "\n",
        "try:\n",
        "    cantidad = int(input(\"¿Cuántas asignaturas deseas ingresar? \"))\n",
        "\n",
        "    if cantidad <= 0:\n",
        "        print(\"Por favor, ingresa un número válido mayor que 0.\")\n",
        "    else:\n",
        "        for i in range(cantidad):\n",
        "            asignatura = input(f\"Ingresa el nombre de la asignatura #{i+1}: \")\n",
        "            asignaturas.append(asignatura)\n",
        "\n",
        "        print(\"\\nTus asignaturas:\")\n",
        "        for asignatura in asignaturas:\n",
        "            print(f\"Yo estudio {asignatura}\")\n",
        "\n",
        "except ValueError:\n",
        "    print(\"Entrada inválida. Por favor, ingresa un número entero.\")"
      ],
      "execution_count": 7,
      "outputs": [
        {
          "output_type": "stream",
          "name": "stdout",
          "text": [
            "¿Cuántas asignaturas deseas ingresar? 5\n",
            "Ingresa el nombre de la asignatura #1: Matemticas\n",
            "Ingresa el nombre de la asignatura #2: Ingles\n",
            "Ingresa el nombre de la asignatura #3: Fisica\n",
            "Ingresa el nombre de la asignatura #4: Lengua \n",
            "Ingresa el nombre de la asignatura #5: Biologia\n",
            "\n",
            "Tus asignaturas:\n",
            "Yo estudio Matemticas\n",
            "Yo estudio Ingles\n",
            "Yo estudio Fisica\n",
            "Yo estudio Lengua \n",
            "Yo estudio Biologia\n"
          ]
        }
      ]
    },
    {
      "cell_type": "markdown",
      "source": [
        "Ejercicio 3\n",
        "\n",
        "Escribir un programa que almacene las asignaturas de un curso (por ejemplo Matemáticas, Física, Química, Historia y Lengua) en una lista, pregunte al usuario la nota que ha sacado en cada asignatura, y después las muestre por pantalla con el mensaje En <asignatura> has sacado <nota> donde <asignatura> es cada una des las asignaturas de la lista y <nota> cada una de las correspondientes notas introducidas por el usuario."
      ],
      "metadata": {
        "id": "c8VHy2HkP2Yg"
      }
    },
    {
      "cell_type": "code",
      "metadata": {
        "colab": {
          "base_uri": "https://localhost:8080/"
        },
        "id": "f18a468c",
        "outputId": "86eb4785-3c54-4e23-ee04-b0e087c2449c"
      },
      "source": [
        "asignaturas = [\n",
        "    \"Matemáticas\",\n",
        "    \"Física\",\n",
        "    \"Química\",\n",
        "    \"Historia\",\n",
        "    \"Lengua\"\n",
        "]\n",
        "\n",
        "notas = {}\n",
        "\n",
        "print(\"Por favor, ingresa las notas para cada asignatura:\")\n",
        "for asignatura in asignaturas:\n",
        "    while True:\n",
        "        try:\n",
        "            nota = float(input(f\"¿Qué nota has sacado en {asignatura}? \"))\n",
        "            if 0 <= nota <= 10:\n",
        "                notas[asignatura] = nota\n",
        "                break\n",
        "            else:\n",
        "                print(\"Por favor, ingresa una nota válida entre 0 y 10.\")\n",
        "        except ValueError:\n",
        "            print(\"Entrada inválida. Por favor, ingresa un número.\")\n",
        "\n",
        "print(\"\\nResumen de tus notas:\")\n",
        "for asignatura, nota in notas.items():\n",
        "    print(f\"En {asignatura} has sacado {nota}\")"
      ],
      "execution_count": 10,
      "outputs": [
        {
          "output_type": "stream",
          "name": "stdout",
          "text": [
            "Por favor, ingresa las notas para cada asignatura:\n",
            "¿Qué nota has sacado en Matemáticas? 9\n",
            "¿Qué nota has sacado en Física? 10\n",
            "¿Qué nota has sacado en Química? 8\n",
            "¿Qué nota has sacado en Historia? 5\n",
            "¿Qué nota has sacado en Lengua? 10\n",
            "\n",
            "Resumen de tus notas:\n",
            "En Matemáticas has sacado 9.0\n",
            "En Física has sacado 10.0\n",
            "En Química has sacado 8.0\n",
            "En Historia has sacado 5.0\n",
            "En Lengua has sacado 10.0\n"
          ]
        }
      ]
    },
    {
      "cell_type": "markdown",
      "source": [
        "Ejercicio 4\n",
        "\n",
        "Escribir un programa que pregunte al usuario los números ganadores de la lotería primitiva, los almacene en una lista y los muestre por pantalla ordenados de menor a mayor.\n",
        "\n",
        "\n"
      ],
      "metadata": {
        "id": "F2FoyZvIQDfh"
      }
    },
    {
      "cell_type": "code",
      "metadata": {
        "colab": {
          "base_uri": "https://localhost:8080/"
        },
        "id": "22585259",
        "outputId": "ec6a026d-1f2a-49d4-99da-c95a05aeafdc"
      },
      "source": [
        "numeros_ganadores = []\n",
        "print(\"Introduce los 6 números ganadores de la lotería primitiva:\")\n",
        "\n",
        "while len(numeros_ganadores) < 6:\n",
        "    try:\n",
        "        numero = int(input(f\"Número #{len(numeros_ganadores) + 1}: \"))\n",
        "        if 1 <= numero <= 49:\n",
        "            if numero not in numeros_ganadores:\n",
        "                numeros_ganadores.append(numero)\n",
        "            else:\n",
        "                print(\"Ese número ya fue ingresado. Intenta con otro.\")\n",
        "        else:\n",
        "            print(\"Por favor, ingresa un número válido entre 1 y 49.\")\n",
        "    except ValueError:\n",
        "        print(\"Por favor, ingresa un número entero.\")\n",
        "\n",
        "# Ordenar la lista\n",
        "numeros_ganadores.sort()\n",
        "\n",
        "# Mostrar los números ordenados\n",
        "print(\"\\nNúmeros ganadores ordenados:\")\n",
        "for numero in numeros_ganadores:\n",
        "    print(numero, end=\" \")\n",
        "print()"
      ],
      "execution_count": 12,
      "outputs": [
        {
          "output_type": "stream",
          "name": "stdout",
          "text": [
            "Introduce los 6 números ganadores de la lotería primitiva:\n",
            "Número #1: 44\n",
            "Número #2: 55\n",
            "Por favor, ingresa un número válido entre 1 y 49.\n",
            "Número #2: 66\n",
            "Por favor, ingresa un número válido entre 1 y 49.\n",
            "Número #2: 77\n",
            "Por favor, ingresa un número válido entre 1 y 49.\n",
            "Número #2: 5\n",
            "Número #3: 4\n",
            "Número #4: 3\n",
            "Número #5: 4\n",
            "Ese número ya fue ingresado. Intenta con otro.\n",
            "Número #5: 5\n",
            "Ese número ya fue ingresado. Intenta con otro.\n",
            "Número #5: 9\n",
            "Número #6: 1\n",
            "\n",
            "Números ganadores ordenados:\n",
            "1 3 4 5 9 44 \n"
          ]
        }
      ]
    },
    {
      "cell_type": "markdown",
      "source": [
        "Ejercicio 5\n",
        "\n",
        "Escribir un programa que almacene en una lista los números del 1 al 10 y los muestre por pantalla en orden inverso separados por comas.\n",
        "\n",
        "\n"
      ],
      "metadata": {
        "id": "-Ha8wljZQJZR"
      }
    },
    {
      "cell_type": "code",
      "metadata": {
        "colab": {
          "base_uri": "https://localhost:8080/"
        },
        "id": "ce233681",
        "outputId": "f44961f3-5514-4936-cb88-f9a1af4a76f2"
      },
      "source": [
        "# Crear una lista con los números del 1 al 10\n",
        "numeros = list(range(1, 11))\n",
        "\n",
        "# Invertir la lista\n",
        "numeros.reverse()\n",
        "\n",
        "# Mostrar los números separados por comas\n",
        "print(\"Números en orden inverso:\")\n",
        "print(\", \".join(map(str, numeros)))"
      ],
      "execution_count": 14,
      "outputs": [
        {
          "output_type": "stream",
          "name": "stdout",
          "text": [
            "Números en orden inverso:\n",
            "10, 9, 8, 7, 6, 5, 4, 3, 2, 1\n"
          ]
        }
      ]
    }
  ],
  "metadata": {
    "kernelspec": {
      "display_name": "Python 3",
      "language": "python",
      "name": "python3"
    },
    "language_info": {
      "codemirror_mode": {
        "name": "ipython",
        "version": 3
      },
      "file_extension": ".py",
      "mimetype": "text/x-python",
      "name": "python",
      "nbconvert_exporter": "python",
      "pygments_lexer": "ipython3",
      "version": "3.7.1"
    },
    "colab": {
      "provenance": []
    }
  },
  "nbformat": 4,
  "nbformat_minor": 0
}